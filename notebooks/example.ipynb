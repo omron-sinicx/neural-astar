{
 "cells": [
  {
   "cell_type": "markdown",
   "id": "5c38c3d8-b2af-41fd-ba2b-8d482b540535",
   "metadata": {},
   "source": [
    "### (Optional) Install Neural A* on Colab\n",
    "\n",
    "We highly recommend the use of GPUs for faster training/planning."
   ]
  },
  {
   "cell_type": "code",
   "execution_count": null,
   "id": "48af7a83-b074-47f1-a1de-cb4da97f6f1d",
   "metadata": {},
   "outputs": [],
   "source": [
    "!git clone --recursive https://github.com/omron-sinicx/neural-astar"
   ]
  },
  {
   "cell_type": "code",
   "execution_count": null,
   "id": "7c736d92-e32a-4db6-84ca-7489745d3bf1",
   "metadata": {},
   "outputs": [],
   "source": [
    "%cd neural-astar\n",
    "!pip install -U pip setuptools\n",
    "!pip install ."
   ]
  },
  {
   "cell_type": "markdown",
   "id": "31c233be-e0b7-481f-aec1-6dedbfcbd411",
   "metadata": {},
   "source": [
    "## Run Neural A*"
   ]
  },
  {
   "cell_type": "code",
   "execution_count": 1,
   "id": "48c1e933-b080-4249-9e9d-e726f6b991b1",
   "metadata": {},
   "outputs": [
    {
     "name": "stderr",
     "output_type": "stream",
     "text": [
      "/home/yonetani/programs/omron-sinicx/neural-astar/.venv/lib/python3.8/site-packages/tqdm/auto.py:22: TqdmWarning: IProgress not found. Please update jupyter and ipywidgets. See https://ipywidgets.readthedocs.io/en/stable/user_install.html\n",
      "  from .autonotebook import tqdm as notebook_tqdm\n"
     ]
    }
   ],
   "source": [
    "import torch\n",
    "import matplotlib.pyplot as plt\n",
    "\n",
    "from neural_astar.planner import NeuralAstar, VanillaAstar\n",
    "from neural_astar.utils.data import create_dataloader\n",
    "from neural_astar.utils.training import visualize_results, load_from_ptl_checkpoint\n",
    "\n",
    "device = \"cuda\" if torch.cuda.is_available() else \"cpu\""
   ]
  },
  {
   "cell_type": "markdown",
   "id": "1736c3c4-24d5-4153-b953-1ae1711d67c3",
   "metadata": {},
   "source": [
    "Neural A\\*, as well as vanilla differentiable A\\* can be instantiated just like a neural network module."
   ]
  },
  {
   "cell_type": "code",
   "execution_count": 3,
   "id": "3be60ed1-dc18-421a-9ee0-598254bdd19c",
   "metadata": {},
   "outputs": [
    {
     "name": "stdout",
     "output_type": "stream",
     "text": [
      "load ../model/mazes_032_moore_c8/lightning_logs/version_0/checkpoints/epoch=33-step=272.ckpt\n"
     ]
    }
   ],
   "source": [
    "neural_astar = NeuralAstar(encoder_arch='CNN').to(device)\n",
    "neural_astar.load_state_dict(load_from_ptl_checkpoint(\"../model/mazes_032_moore_c8/lightning_logs/\"))\n",
    "\n",
    "vanilla_astar = VanillaAstar().to(device)"
   ]
  },
  {
   "cell_type": "markdown",
   "id": "4bccd8a3-0e8f-49b9-8f25-8dabc1f27bc6",
   "metadata": {},
   "source": [
    "Running these A\\* modules requires `map_designs` (obstacle layouts), `start_maps`, and `goal_maps` (one-hot maps indicating start and goal locations), which should each have the shape of `(batch_size, 1, map_size, map_size)`."
   ]
  },
  {
   "cell_type": "code",
   "execution_count": 4,
   "id": "65e0113e-7cc9-4adc-b04b-d1f5dc18e30c",
   "metadata": {},
   "outputs": [
    {
     "name": "stdout",
     "output_type": "stream",
     "text": [
      "Number of Test Samples: 100\n",
      "\tSize: 32x32\n"
     ]
    },
    {
     "data": {
      "image/png": "[encoded data removed]",
      "text/plain": [
       "<Figure size 800x500 with 6 Axes>"
      ]
     },
     "metadata": {},
     "output_type": "display_data"
    }
   ],
   "source": [
    "dataloader = create_dataloader(\"../planning-datasets/data/mpd/mazes_032_moore_c8.npz\", \"test\", 8)\n",
    "map_designs, start_maps, goal_maps, _ = next(iter(dataloader))\n",
    "\n",
    "fig, axes = plt.subplots(2, 3, figsize=[8, 5])\n",
    "for i in range(2):\n",
    "    axes[i, 0].imshow(map_designs.numpy()[i, 0])\n",
    "    axes[i, 0].set_title(\"map_design\")\n",
    "    axes[i, 0].axis(\"off\")\n",
    "    axes[i, 1].imshow(start_maps.numpy()[i, 0])\n",
    "    axes[i, 1].set_title(\"start_map\")\n",
    "    axes[i, 1].axis(\"off\")\n",
    "    axes[i, 2].imshow(goal_maps.numpy()[i, 0])\n",
    "    axes[i, 2].set_title(\"goal_map\")\n",
    "    axes[i, 2].axis(\"off\")"
   ]
  },
  {
   "cell_type": "markdown",
   "id": "7c1b7e1b-cd15-4e4e-ab53-9324351c2797",
   "metadata": {},
   "source": [
    "Then, search can be performed by simply forwarding the model. The output is namedtuple `AstarOutput` with `histories` (search history maps) and `paths` (path maps)."
   ]
  },
  {
   "cell_type": "code",
   "execution_count": 5,
   "id": "dbe81f3f-6f19-46cc-ad24-74c00151e28f",
   "metadata": {},
   "outputs": [
    {
     "name": "stderr",
     "output_type": "stream",
     "text": [
      "/home/yonetani/programs/omron-sinicx/neural-astar/.venv/lib/python3.8/site-packages/torch/functional.py:504: UserWarning: torch.meshgrid: in an upcoming release, it will be required to pass the indexing argument. (Triggered internally at ../aten/src/ATen/native/TensorShape.cpp:3190.)\n",
      "  return _VF.meshgrid(tensors, **kwargs)  # type: ignore[attr-defined]\n"
     ]
    },
    {
     "data": {
      "text/plain": [
       "(-0.5, 273.5, 35.5, -0.5)"
      ]
     },
     "execution_count": 5,
     "metadata": {},
     "output_type": "execute_result"
    },
    {
     "data": {
      "image/png": "[encoded data removed]",
      "text/plain": [
       "<Figure size 1200x400 with 2 Axes>"
      ]
     },
     "metadata": {},
     "output_type": "display_data"
    }
   ],
   "source": [
    "neural_astar.eval()\n",
    "na_outputs = neural_astar(map_designs.to(device), start_maps.to(device), goal_maps.to(device))\n",
    "vanilla_astar.eval()\n",
    "va_outputs = vanilla_astar(map_designs.to(device), start_maps.to(device), goal_maps.to(device))\n",
    "\n",
    "fig, axes = plt.subplots(2, 1, figsize=[12, 4])\n",
    "axes[0].imshow(visualize_results(map_designs, na_outputs))\n",
    "axes[0].set_title(\"Neural A*\")\n",
    "axes[0].axis(\"off\")\n",
    "axes[1].imshow(visualize_results(map_designs, va_outputs))\n",
    "axes[1].set_title(\"Vanilla A*\")\n",
    "axes[1].axis(\"off\")"
   ]
  },
  {
   "cell_type": "markdown",
   "id": "53cbe319-c31d-41b3-ab76-fcf56a64a257",
   "metadata": {},
   "source": [
    "## Train Neural A*\n",
    "\n",
    "You can train your own model using `scripts/train.py`, where the hyperparameters are stored in `scripts/config/train.yaml`."
   ]
  },
  {
   "cell_type": "code",
   "execution_count": 6,
   "id": "e8a393ae-cdee-46b6-b8d6-81024351e728",
   "metadata": {},
   "outputs": [
    {
     "name": "stdout",
     "output_type": "stream",
     "text": [
      "scripts/train.py:28: UserWarning: \n",
      "The version_base parameter is not specified.\n",
      "Please specify a compatability version level, or None.\n",
      "Will assume defaults for version 1.1\n",
      "  @hydra.main(config_path=\"config\", config_name=\"train\")\n",
      "Number of Train Samples: 800\n",
      "\tSize: 32x32\n",
      "Number of Validation Samples: 100\n",
      "\tSize: 32x32\n",
      "Number of Test Samples: 100\n",
      "\tSize: 32x32\n",
      "training:   0%|                       | 0/8 [00:00<?, ?it/s]/home/yonetani/programs/omron-sinicx/neural-astar/.venv/lib/python3.8/site-packages/torch/functional.py:504: UserWarning: torch.meshgrid: in an upcoming release, it will be required to pass the indexing argument. (Triggered internally at ../aten/src/ATen/native/TensorShape.cpp:3190.)\n",
      "  return _VF.meshgrid(tensors, **kwargs)  # type: ignore[attr-defined]\n",
      "training:  50%|███████▌       | 4/8 [00:07<00:07,  1.78s/it]^C\n"
     ]
    }
   ],
   "source": [
    "# CNN encoder\n",
    "!python scripts/train.py"
   ]
  }
 ],
 "metadata": {
  "kernelspec": {
   "display_name": "Python 3 (ipykernel)",
   "language": "python",
   "name": "python3"
  },
  "language_info": {
   "codemirror_mode": {
    "name": "ipython",
    "version": 3
   },
   "file_extension": ".py",
   "mimetype": "text/x-python",
   "name": "python",
   "nbconvert_exporter": "python",
   "pygments_lexer": "ipython3",
   "version": "3.8.10"
  }
 },
 "nbformat": 4,
 "nbformat_minor": 5
}
