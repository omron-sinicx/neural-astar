{
 "cells": [
  {
   "cell_type": "markdown",
   "id": "5c38c3d8-b2af-41fd-ba2b-8d482b540535",
   "metadata": {},
   "source": [
    "### (Optional) Install Neural A* on Colab\n",
    "\n",
    "We highly recommend the use of GPUs for faster training/planning."
   ]
  },
  {
   "cell_type": "code",
   "execution_count": null,
   "id": "48af7a83-b074-47f1-a1de-cb4da97f6f1d",
   "metadata": {},
   "outputs": [],
   "source": [
    "!git clone --recursive https://github.com/omron-sinicx/neural-astar"
   ]
  },
  {
   "cell_type": "code",
   "execution_count": null,
   "id": "c2cc0d94",
   "metadata": {},
   "outputs": [],
   "source": []
  },
  {
   "cell_type": "code",
   "execution_count": null,
   "id": "7c736d92-e32a-4db6-84ca-7489745d3bf1",
   "metadata": {},
   "outputs": [],
   "source": [
    "%cd neural-astar\n",
    "!pip install ."
   ]
  },
  {
   "cell_type": "markdown",
   "id": "31c233be-e0b7-481f-aec1-6dedbfcbd411",
   "metadata": {},
   "source": [
    "## Run Neural A*"
   ]
  },
  {
   "cell_type": "code",
   "execution_count": 2,
   "id": "911b7680-5ae9-4607-9757-939d006369ed",
   "metadata": {},
   "outputs": [
    {
     "name": "stderr",
     "output_type": "stream",
     "text": [
      "/home/yonetani/programs/omron-sinicx/neural-astar/.venv/lib/python3.8/site-packages/tqdm/auto.py:22: TqdmWarning: IProgress not found. Please update jupyter and ipywidgets. See https://ipywidgets.readthedocs.io/en/stable/user_install.html\n",
      "  from .autonotebook import tqdm as notebook_tqdm\n"
     ]
    }
   ],
   "source": [
    "import matplotlib.pyplot as plt\n",
    "import torch\n",
    "from tqdm import tqdm\n",
    "\n",
    "from neural_astar.planner import NeuralAstar, VanillaAstar\n",
    "from neural_astar.utils.data import create_dataloader\n",
    "from neural_astar.utils.training import set_global_seeds, calc_metrics_from_multiple_results, visualize_results\n",
    "\n",
    "device = \"cuda\" if torch.cuda.is_available() else \"cpu\""
   ]
  },
  {
   "cell_type": "code",
   "execution_count": 4,
   "id": "0c659be5-9df2-4de3-948e-8e948eb9faf4",
   "metadata": {},
   "outputs": [],
   "source": [
    "neural_astar = NeuralAstar(encoder_arch='CNN').to(device)\n",
    "neural_astar.load_state_dict(torch.load(\"model/mazes_032_moore_c8/best.pt\", map_location=torch.device(device)))\n",
    "\n",
    "vanilla_astar = VanillaAstar().to(device)"
   ]
  },
  {
   "cell_type": "code",
   "execution_count": 5,
   "id": "bc7a6a19-8e4a-44d5-9a6c-73c5586f5fe6",
   "metadata": {},
   "outputs": [
    {
     "name": "stdout",
     "output_type": "stream",
     "text": [
      "Number of Test Samples: 100\n",
      "\tSize: 32x32\n"
     ]
    },
    {
     "name": "stderr",
     "output_type": "stream",
     "text": [
      "  0%|                                                                                                                                                                                                                         | 0/5 [00:00<?, ?it/s]/home/yonetani/programs/omron-sinicx/neural-astar/.venv/lib/python3.8/site-packages/torch/functional.py:504: UserWarning: torch.meshgrid: in an upcoming release, it will be required to pass the indexing argument. (Triggered internally at ../aten/src/ATen/native/TensorShape.cpp:3190.)\n",
      "  return _VF.meshgrid(tensors, **kwargs)  # type: ignore[attr-defined]\n",
      "100%|█████████████████████████████████████████████████████████████████████████████████████████████████████████████████████████████████████████████████████████████████████████████████████████████████████████████████| 5/5 [00:18<00:00,  3.68s/it]\n"
     ]
    },
    {
     "data": {
      "text/plain": [
       "optimality: 0.708, efficiency: 0.403, h_mean: 0.456"
      ]
     },
     "execution_count": 5,
     "metadata": {},
     "output_type": "execute_result"
    }
   ],
   "source": [
    "# average performances over 5 starts\n",
    "\n",
    "set_global_seeds(1234)\n",
    "dataloader = create_dataloader(\"planning-datasets/data/mpd//mazes_032_moore_c8.npz\", \"test\", 100, shuffle=False, num_starts=5)\n",
    "va_outputs_list, na_outputs_list = [], []\n",
    "with torch.no_grad():\n",
    "    for map_designs, start_maps, goal_maps, opt_trajs in dataloader:\n",
    "        for i in tqdm(range(start_maps.shape[1])):\n",
    "            vanilla_astar.eval()\n",
    "            va_outputs_list.append(vanilla_astar(map_designs.to(device), start_maps[:, i:i+1].to(device), goal_maps.to(device)))\n",
    "            neural_astar.eval()\n",
    "            na_outputs_list.append(neural_astar(map_designs.to(device), start_maps[:, i:i+1].to(device), goal_maps.to(device)))\n",
    "            \n",
    "calc_metrics_from_multiple_results(na_outputs_list, va_outputs_list)"
   ]
  },
  {
   "cell_type": "code",
   "execution_count": 6,
   "id": "aa16df10-ef5a-4e67-a515-abe125fe5901",
   "metadata": {},
   "outputs": [
    {
     "name": "stdout",
     "output_type": "stream",
     "text": [
      "Number of Test Samples: 100\n",
      "\tSize: 32x32\n"
     ]
    },
    {
     "data": {
      "text/plain": [
       "(-0.5, 171.5, 35.5, -0.5)"
      ]
     },
     "execution_count": 6,
     "metadata": {},
     "output_type": "execute_result"
    },
    {
     "data": {
      "image/png": "[encoded data removed]",
      "text/plain": [
       "<Figure size 1200x400 with 2 Axes>"
      ]
     },
     "metadata": {},
     "output_type": "display_data"
    }
   ],
   "source": [
    "# Visualization\n",
    "\n",
    "dataloader = create_dataloader(\"planning-datasets/data/mpd//mazes_032_moore_c8.npz\", \"test\", 5, shuffle=False, num_starts=1)\n",
    "map_designs, start_maps, goal_maps, opt_trajs = next(iter(dataloader))\n",
    "na_outputs = neural_astar(map_designs.to(device), start_maps.to(device), goal_maps.to(device))\n",
    "va_outputs = vanilla_astar(map_designs.to(device), start_maps.to(device), goal_maps.to(device))\n",
    "\n",
    "plt.figure(figsize=[12, 4])\n",
    "plt.subplot(2, 1, 1)\n",
    "plt.imshow(visualize_results(map_designs, va_outputs))\n",
    "plt.title(\"Vanilla A*\")\n",
    "plt.axis(\"off\")\n",
    "plt.subplot(2, 1, 2)\n",
    "plt.imshow(visualize_results(map_designs, na_outputs))\n",
    "plt.title(\"Neural A*\")\n",
    "plt.axis(\"off\")\n"
   ]
  },
  {
   "cell_type": "markdown",
   "id": "53cbe319-c31d-41b3-ab76-fcf56a64a257",
   "metadata": {},
   "source": [
    "## Train Neural A*"
   ]
  },
  {
   "cell_type": "code",
   "execution_count": 6,
   "id": "e8a393ae-cdee-46b6-b8d6-81024351e728",
   "metadata": {},
   "outputs": [
    {
     "name": "stdout",
     "output_type": "stream",
     "text": [
      "scripts/train.py:28: UserWarning: \n",
      "The version_base parameter is not specified.\n",
      "Please specify a compatability version level, or None.\n",
      "Will assume defaults for version 1.1\n",
      "  @hydra.main(config_path=\"config\", config_name=\"train\")\n",
      "Number of Train Samples: 800\n",
      "\tSize: 32x32\n",
      "Number of Validation Samples: 100\n",
      "\tSize: 32x32\n",
      "Number of Test Samples: 100\n",
      "\tSize: 32x32\n",
      "training:   0%|                       | 0/8 [00:00<?, ?it/s]/home/yonetani/programs/omron-sinicx/neural-astar/.venv/lib/python3.8/site-packages/torch/functional.py:504: UserWarning: torch.meshgrid: in an upcoming release, it will be required to pass the indexing argument. (Triggered internally at ../aten/src/ATen/native/TensorShape.cpp:3190.)\n",
      "  return _VF.meshgrid(tensors, **kwargs)  # type: ignore[attr-defined]\n",
      "training:  50%|███████▌       | 4/8 [00:07<00:07,  1.78s/it]^C\n"
     ]
    }
   ],
   "source": [
    "# CNN encoder\n",
    "!python scripts/train.py"
   ]
  }
 ],
 "metadata": {
  "kernelspec": {
   "display_name": "Python 3 (ipykernel)",
   "language": "python",
   "name": "python3"
  },
  "language_info": {
   "codemirror_mode": {
    "name": "ipython",
    "version": 3
   },
   "file_extension": ".py",
   "mimetype": "text/x-python",
   "name": "python",
   "nbconvert_exporter": "python",
   "pygments_lexer": "ipython3",
   "version": "3.8.10"
  }
 },
 "nbformat": 4,
 "nbformat_minor": 5
}
