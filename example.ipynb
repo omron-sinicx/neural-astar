{
 "cells": [
  {
   "cell_type": "markdown",
   "id": "5c38c3d8-b2af-41fd-ba2b-8d482b540535",
   "metadata": {},
   "source": [
    "### (Optional) Install Neural A* on Colab\n",
    "\n",
    "We highly recommend the use of GPUs for faster training/planning."
   ]
  },
  {
   "cell_type": "code",
   "execution_count": null,
   "id": "48af7a83-b074-47f1-a1de-cb4da97f6f1d",
   "metadata": {},
   "outputs": [],
   "source": [
    "!git clone https://github.com/omron-sinicx/neural-astar"
   ]
  },
  {
   "cell_type": "code",
   "execution_count": null,
   "id": "7c736d92-e32a-4db6-84ca-7489745d3bf1",
   "metadata": {},
   "outputs": [],
   "source": [
    "%cd neural-astar\n",
    "!pip install ."
   ]
  },
  {
   "cell_type": "markdown",
   "id": "31c233be-e0b7-481f-aec1-6dedbfcbd411",
   "metadata": {},
   "source": [
    "## Run Neural A*"
   ]
  },
  {
   "cell_type": "code",
   "execution_count": 1,
   "id": "911b7680-5ae9-4607-9757-939d006369ed",
   "metadata": {},
   "outputs": [
    {
     "name": "stderr",
     "output_type": "stream",
     "text": [
      "/home/yonetani/programs/omron-sinicx/neural-astar/.venv/lib/python3.8/site-packages/tqdm/auto.py:22: TqdmWarning: IProgress not found. Please update jupyter and ipywidgets. See https://ipywidgets.readthedocs.io/en/stable/user_install.html\n",
      "  from .autonotebook import tqdm as notebook_tqdm\n"
     ]
    }
   ],
   "source": [
    "import matplotlib.pyplot as plt\n",
    "import torch\n",
    "from tqdm import tqdm\n",
    "\n",
    "from neural_astar.planner import NeuralAstar, VanillaAstar\n",
    "from neural_astar.utils.data import create_dataloader\n",
    "from neural_astar.utils.training import set_global_seeds, calc_metrics_from_multiple_results, visualize_results\n",
    "\n",
    "device = \"cuda\" if torch.cuda.is_available() else \"cpu\""
   ]
  },
  {
   "cell_type": "code",
   "execution_count": 2,
   "id": "0c659be5-9df2-4de3-948e-8e948eb9faf4",
   "metadata": {},
   "outputs": [],
   "source": [
    "neural_astar = NeuralAstar(encoder_arch='CNN').to(device)\n",
    "neural_astar.load_state_dict(torch.load(\"data/cnn_mazes.pt\", map_location=torch.device(device)))\n",
    "\n",
    "vanilla_astar = VanillaAstar().to(device)"
   ]
  },
  {
   "cell_type": "code",
   "execution_count": 3,
   "id": "bc7a6a19-8e4a-44d5-9a6c-73c5586f5fe6",
   "metadata": {},
   "outputs": [
    {
     "name": "stdout",
     "output_type": "stream",
     "text": [
      "Number of Test Samples: 100\n",
      "\tSize: 32x32\n"
     ]
    },
    {
     "name": "stderr",
     "output_type": "stream",
     "text": [
      "  0%|                                                                                                                                         | 0/5 [00:00<?, ?it/s]/home/yonetani/programs/omron-sinicx/neural-astar/.venv/lib/python3.8/site-packages/torch/functional.py:504: UserWarning: torch.meshgrid: in an upcoming release, it will be required to pass the indexing argument. (Triggered internally at ../aten/src/ATen/native/TensorShape.cpp:3190.)\n",
      "  return _VF.meshgrid(tensors, **kwargs)  # type: ignore[attr-defined]\n",
      "100%|█████████████████████████████████████████████████████████████████████████████████████████████████████████████████████████████████| 5/5 [00:05<00:00,  1.20s/it]\n"
     ]
    },
    {
     "data": {
      "text/plain": [
       "optimality: 0.782, efficiency: 0.431, h_mean: 0.501"
      ]
     },
     "execution_count": 3,
     "metadata": {},
     "output_type": "execute_result"
    }
   ],
   "source": [
    "# average performances over 5 starts\n",
    "\n",
    "set_global_seeds(1234)\n",
    "dataloader = create_dataloader(\"data/mazes_032_moore_c8.npz\", \"test\", 100, shuffle=False, num_starts=5)\n",
    "va_outputs_list, na_outputs_list = [], []\n",
    "with torch.no_grad():\n",
    "    for map_designs, start_maps, goal_maps, opt_trajs in dataloader:\n",
    "        for i in tqdm(range(start_maps.shape[1])):\n",
    "            vanilla_astar.eval()\n",
    "            va_outputs_list.append(vanilla_astar(map_designs.to(device), start_maps[:, i:i+1].to(device), goal_maps.to(device)))\n",
    "            neural_astar.eval()\n",
    "            na_outputs_list.append(neural_astar(map_designs.to(device), start_maps[:, i:i+1].to(device), goal_maps.to(device)))\n",
    "            \n",
    "calc_metrics_from_multiple_results(na_outputs_list, va_outputs_list)"
   ]
  },
  {
   "cell_type": "code",
   "execution_count": 4,
   "id": "aa16df10-ef5a-4e67-a515-abe125fe5901",
   "metadata": {},
   "outputs": [
    {
     "name": "stdout",
     "output_type": "stream",
     "text": [
      "Number of Test Samples: 100\n",
      "\tSize: 32x32\n"
     ]
    },
    {
     "data": {
      "text/plain": [
       "(-0.5, 171.5, 35.5, -0.5)"
      ]
     },
     "execution_count": 4,
     "metadata": {},
     "output_type": "execute_result"
    },
    {
     "data": {
      "image/png": "[encoded data removed]",
      "text/plain": [
       "<Figure size 1200x400 with 2 Axes>"
      ]
     },
     "metadata": {},
     "output_type": "display_data"
    }
   ],
   "source": [
    "# Visualization\n",
    "\n",
    "dataloader = create_dataloader(\"data/mazes_032_moore_c8.npz\", \"test\", 5, shuffle=False, num_starts=1)\n",
    "map_designs, start_maps, goal_maps, opt_trajs = next(iter(dataloader))\n",
    "na_outputs = neural_astar(map_designs.to(device), start_maps.to(device), goal_maps.to(device))\n",
    "va_outputs = vanilla_astar(map_designs.to(device), start_maps.to(device), goal_maps.to(device))\n",
    "\n",
    "plt.figure(figsize=[12, 4])\n",
    "plt.subplot(2, 1, 1)\n",
    "plt.imshow(visualize_results(map_designs, va_outputs))\n",
    "plt.title(\"Vanilla A*\")\n",
    "plt.axis(\"off\")\n",
    "plt.subplot(2, 1, 2)\n",
    "plt.imshow(visualize_results(map_designs, na_outputs))\n",
    "plt.title(\"Neural A*\")\n",
    "plt.axis(\"off\")\n"
   ]
  },
  {
   "cell_type": "code",
   "execution_count": 5,
   "id": "f5edad4e-55c5-4f24-8f15-57c7b6408221",
   "metadata": {},
   "outputs": [
    {
     "name": "stderr",
     "output_type": "stream",
     "text": [
      "                                                   "
     ]
    },
    {
     "name": "stdout",
     "output_type": "stream",
     "text": [
      "MoviePy - Building file neural_astar.gif with imageio.\n"
     ]
    },
    {
     "name": "stderr",
     "output_type": "stream",
     "text": [
      "t:  38%|███▊      | 89/236 [00:00<00:00, 887.18it/s, now=None]"
     ]
    },
    {
     "name": "stdout",
     "output_type": "stream",
     "text": [
      "MoviePy - Building file astar.gif with imageio.\n"
     ]
    },
    {
     "name": "stderr",
     "output_type": "stream",
     "text": [
      "                                                               \r"
     ]
    }
   ],
   "source": [
    "# Create gif animation\n",
    "\n",
    "import moviepy.editor as mpy\n",
    "from PIL import Image\n",
    "\n",
    "instance_id = 1\n",
    "\n",
    "na_outputs = neural_astar(map_designs[instance_id:instance_id + 1].to(device), \n",
    "                          start_maps[instance_id:instance_id + 1].to(device), \n",
    "                          goal_maps[instance_id:instance_id + 1].to(device), store_intermediate_results=True)\n",
    "frames = [visualize_results(map_designs[instance_id:instance_id + 1], intermediate_results, scale=4) for intermediate_results in na_outputs.intermediate_results]\n",
    "clip = mpy.ImageSequenceClip(frames + [frames[-1]] * 15, fps=30)\n",
    "clip.write_gif(\"neural_astar.gif\")\n",
    "\n",
    "\n",
    "va_outputs = vanilla_astar(map_designs[instance_id:instance_id + 1].to(device), \n",
    "                          start_maps[instance_id:instance_id + 1].to(device), \n",
    "                          goal_maps[instance_id:instance_id + 1].to(device), store_intermediate_results=True)\n",
    "frames = [visualize_results(map_designs[instance_id:instance_id + 1], intermediate_results, scale=4) for intermediate_results in va_outputs.intermediate_results]\n",
    "clip = mpy.ImageSequenceClip(frames + [frames[-1]] * 15, fps=30)\n",
    "clip.write_gif(\"astar.gif\")"
   ]
  },
  {
   "cell_type": "markdown",
   "id": "53cbe319-c31d-41b3-ab76-fcf56a64a257",
   "metadata": {},
   "source": [
    "## Train Neural A*"
   ]
  },
  {
   "cell_type": "code",
   "execution_count": 6,
   "id": "e8a393ae-cdee-46b6-b8d6-81024351e728",
   "metadata": {},
   "outputs": [
    {
     "name": "stdout",
     "output_type": "stream",
     "text": [
      "Number of Train Samples: 800\n",
      "\tSize: 32x32\n",
      "Number of Validation Samples: 100\n",
      "\tSize: 32x32\n",
      "Number of Test Samples: 100\n",
      "\tSize: 32x32\n",
      "training: 100%|███████████████| 8/8 [00:04<00:00,  1.79it/s]\n",
      "validation: 100%|█████████████| 1/1 [00:01<00:00,  1.16s/it]\n",
      "[epoch:000] train_loss:7.75e-02, val_loss:9.01e-02,  optimality: 0.560, efficiency: 0.377, h_mean: 0.451\n",
      "best score updated: -1.000 -> 0.451\n",
      "training: 100%|███████████████| 8/8 [00:04<00:00,  1.87it/s]\n",
      "validation: 100%|█████████████| 1/1 [00:01<00:00,  1.24s/it]\n",
      "[epoch:001] train_loss:7.40e-02, val_loss:1.00e-01,  optimality: 0.580, efficiency: 0.293, h_mean: 0.389\n",
      "training: 100%|███████████████| 8/8 [00:04<00:00,  1.86it/s]\n",
      "validation: 100%|█████████████| 1/1 [00:01<00:00,  1.24s/it]\n",
      "[epoch:002] train_loss:7.08e-02, val_loss:1.03e-01,  optimality: 0.500, efficiency: 0.320, h_mean: 0.390\n",
      "training: 100%|███████████████| 8/8 [00:04<00:00,  1.88it/s]\n",
      "validation: 100%|█████████████| 1/1 [00:01<00:00,  1.21s/it]\n",
      "[epoch:003] train_loss:6.91e-02, val_loss:1.07e-01,  optimality: 0.680, efficiency: 0.286, h_mean: 0.402\n",
      "training: 100%|███████████████| 8/8 [00:03<00:00,  2.42it/s]\n",
      "validation: 100%|█████████████| 1/1 [00:00<00:00,  1.14it/s]\n",
      "[epoch:004] train_loss:7.01e-02, val_loss:9.03e-02,  optimality: 0.770, efficiency: 0.395, h_mean: 0.522\n",
      "best score updated: 0.451 -> 0.522\n",
      "training: 100%|███████████████| 8/8 [00:03<00:00,  2.45it/s]\n",
      "validation: 100%|█████████████| 1/1 [00:00<00:00,  1.23it/s]\n",
      "[epoch:005] train_loss:6.84e-02, val_loss:7.82e-02,  optimality: 0.790, efficiency: 0.424, h_mean: 0.552\n",
      "best score updated: 0.522 -> 0.552\n",
      "training: 100%|███████████████| 8/8 [00:03<00:00,  2.41it/s]\n",
      "validation: 100%|█████████████| 1/1 [00:00<00:00,  1.18it/s]\n",
      "[epoch:006] train_loss:6.63e-02, val_loss:7.60e-02,  optimality: 0.710, efficiency: 0.418, h_mean: 0.526\n",
      "training: 100%|███████████████| 8/8 [00:03<00:00,  2.28it/s]\n",
      "validation: 100%|█████████████| 1/1 [00:00<00:00,  1.08it/s]\n",
      "[epoch:007] train_loss:6.61e-02, val_loss:7.67e-02,  optimality: 0.860, efficiency: 0.474, h_mean: 0.611\n",
      "best score updated: 0.552 -> 0.611\n",
      "training: 100%|███████████████| 8/8 [00:03<00:00,  2.28it/s]\n",
      "validation: 100%|█████████████| 1/1 [00:00<00:00,  1.05it/s]\n",
      "[epoch:008] train_loss:6.42e-02, val_loss:7.30e-02,  optimality: 0.770, efficiency: 0.479, h_mean: 0.591\n",
      "training: 100%|███████████████| 8/8 [00:03<00:00,  2.35it/s]\n",
      "validation: 100%|█████████████| 1/1 [00:00<00:00,  1.14it/s]\n",
      "[epoch:009] train_loss:6.52e-02, val_loss:7.37e-02,  optimality: 0.800, efficiency: 0.441, h_mean: 0.569\n",
      "training: 100%|███████████████| 8/8 [00:04<00:00,  1.98it/s]\n",
      "validation: 100%|█████████████| 1/1 [00:01<00:00,  1.14s/it]\n",
      "[epoch:010] train_loss:6.51e-02, val_loss:7.34e-02,  optimality: 0.680, efficiency: 0.423, h_mean: 0.521\n",
      "training: 100%|███████████████| 8/8 [00:04<00:00,  1.88it/s]\n",
      "validation: 100%|█████████████| 1/1 [00:01<00:00,  1.23s/it]\n",
      "[epoch:011] train_loss:6.25e-02, val_loss:7.88e-02,  optimality: 0.650, efficiency: 0.479, h_mean: 0.551\n",
      "training: 100%|███████████████| 8/8 [00:04<00:00,  1.88it/s]\n",
      "validation: 100%|█████████████| 1/1 [00:01<00:00,  1.07s/it]\n",
      "[epoch:012] train_loss:6.47e-02, val_loss:6.77e-02,  optimality: 0.780, efficiency: 0.418, h_mean: 0.544\n",
      "training: 100%|███████████████| 8/8 [00:04<00:00,  1.88it/s]\n",
      "validation: 100%|█████████████| 1/1 [00:01<00:00,  1.19s/it]\n",
      "[epoch:013] train_loss:6.46e-02, val_loss:7.67e-02,  optimality: 0.790, efficiency: 0.466, h_mean: 0.586\n",
      "training: 100%|███████████████| 8/8 [00:04<00:00,  1.88it/s]\n",
      "validation: 100%|█████████████| 1/1 [00:01<00:00,  1.15s/it]\n",
      "[epoch:014] train_loss:6.48e-02, val_loss:7.25e-02,  optimality: 0.740, efficiency: 0.432, h_mean: 0.546\n",
      "training: 100%|███████████████| 8/8 [00:04<00:00,  1.87it/s]\n",
      "validation: 100%|█████████████| 1/1 [00:01<00:00,  1.22s/it]\n",
      "[epoch:015] train_loss:6.50e-02, val_loss:7.84e-02,  optimality: 0.620, efficiency: 0.450, h_mean: 0.521\n",
      "training: 100%|███████████████| 8/8 [00:04<00:00,  1.89it/s]\n",
      "validation: 100%|█████████████| 1/1 [00:01<00:00,  1.07s/it]\n",
      "[epoch:016] train_loss:6.43e-02, val_loss:7.50e-02,  optimality: 0.740, efficiency: 0.424, h_mean: 0.539\n",
      "training: 100%|███████████████| 8/8 [00:04<00:00,  1.87it/s]\n",
      "validation: 100%|█████████████| 1/1 [00:01<00:00,  1.05s/it]\n",
      "[epoch:017] train_loss:6.40e-02, val_loss:7.58e-02,  optimality: 0.830, efficiency: 0.471, h_mean: 0.601\n",
      "training: 100%|███████████████| 8/8 [00:04<00:00,  1.92it/s]\n",
      "validation: 100%|█████████████| 1/1 [00:01<00:00,  1.21s/it]\n",
      "[epoch:018] train_loss:6.26e-02, val_loss:7.25e-02,  optimality: 0.770, efficiency: 0.436, h_mean: 0.557\n",
      "training: 100%|███████████████| 8/8 [00:04<00:00,  1.88it/s]\n",
      "validation: 100%|█████████████| 1/1 [00:00<00:00,  1.00it/s]\n",
      "[epoch:019] train_loss:6.41e-02, val_loss:7.30e-02,  optimality: 0.730, efficiency: 0.441, h_mean: 0.550\n",
      "training: 100%|███████████████| 8/8 [00:04<00:00,  1.88it/s]\n",
      "validation: 100%|█████████████| 1/1 [00:01<00:00,  1.11s/it]\n",
      "[epoch:020] train_loss:6.36e-02, val_loss:7.50e-02,  optimality: 0.780, efficiency: 0.460, h_mean: 0.578\n",
      "training: 100%|███████████████| 8/8 [00:04<00:00,  1.88it/s]\n",
      "validation: 100%|█████████████| 1/1 [00:01<00:00,  1.22s/it]\n",
      "[epoch:021] train_loss:6.48e-02, val_loss:7.46e-02,  optimality: 0.650, efficiency: 0.434, h_mean: 0.521\n",
      "training: 100%|███████████████| 8/8 [00:04<00:00,  1.92it/s]\n",
      "validation: 100%|█████████████| 1/1 [00:01<00:00,  1.20s/it]\n",
      "[epoch:022] train_loss:6.35e-02, val_loss:7.38e-02,  optimality: 0.730, efficiency: 0.443, h_mean: 0.551\n",
      "training: 100%|███████████████| 8/8 [00:04<00:00,  1.95it/s]\n",
      "validation: 100%|█████████████| 1/1 [00:01<00:00,  1.18s/it]\n",
      "[epoch:023] train_loss:6.48e-02, val_loss:7.36e-02,  optimality: 0.820, efficiency: 0.426, h_mean: 0.561\n",
      "training: 100%|███████████████| 8/8 [00:04<00:00,  1.88it/s]\n",
      "validation: 100%|█████████████| 1/1 [00:01<00:00,  1.17s/it]\n",
      "[epoch:024] train_loss:6.21e-02, val_loss:7.41e-02,  optimality: 0.730, efficiency: 0.430, h_mean: 0.541\n",
      "training: 100%|███████████████| 8/8 [00:04<00:00,  1.91it/s]\n",
      "validation: 100%|█████████████| 1/1 [00:01<00:00,  1.16s/it]\n",
      "[epoch:025] train_loss:6.32e-02, val_loss:7.54e-02,  optimality: 0.820, efficiency: 0.442, h_mean: 0.574\n",
      "training: 100%|███████████████| 8/8 [00:04<00:00,  1.88it/s]\n",
      "validation: 100%|█████████████| 1/1 [00:01<00:00,  1.13s/it]\n",
      "[epoch:026] train_loss:6.38e-02, val_loss:7.47e-02,  optimality: 0.760, efficiency: 0.478, h_mean: 0.587\n",
      "training: 100%|███████████████| 8/8 [00:04<00:00,  1.88it/s]\n",
      "validation: 100%|█████████████| 1/1 [00:01<00:00,  1.22s/it]\n",
      "[epoch:027] train_loss:6.14e-02, val_loss:7.41e-02,  optimality: 0.850, efficiency: 0.470, h_mean: 0.605\n",
      "training: 100%|███████████████| 8/8 [00:04<00:00,  1.89it/s]\n",
      "validation: 100%|█████████████| 1/1 [00:01<00:00,  1.12s/it]\n",
      "[epoch:028] train_loss:6.25e-02, val_loss:7.17e-02,  optimality: 0.800, efficiency: 0.449, h_mean: 0.575\n",
      "training: 100%|███████████████| 8/8 [00:03<00:00,  2.15it/s]\n",
      "validation: 100%|█████████████| 1/1 [00:01<00:00,  1.18s/it]\n",
      "[epoch:029] train_loss:6.16e-02, val_loss:7.30e-02,  optimality: 0.850, efficiency: 0.447, h_mean: 0.586\n",
      "training: 100%|███████████████| 8/8 [00:04<00:00,  1.94it/s]\n",
      "validation: 100%|█████████████| 1/1 [00:01<00:00,  1.07s/it]\n",
      "[epoch:030] train_loss:6.17e-02, val_loss:7.33e-02,  optimality: 0.770, efficiency: 0.500, h_mean: 0.606\n",
      "training: 100%|███████████████| 8/8 [00:04<00:00,  1.86it/s]\n",
      "validation: 100%|█████████████| 1/1 [00:01<00:00,  1.15s/it]\n",
      "[epoch:031] train_loss:6.28e-02, val_loss:7.25e-02,  optimality: 0.860, efficiency: 0.481, h_mean: 0.617\n",
      "best score updated: 0.611 -> 0.617\n",
      "training: 100%|███████████████| 8/8 [00:04<00:00,  1.87it/s]\n",
      "validation: 100%|█████████████| 1/1 [00:01<00:00,  1.16s/it]\n",
      "[epoch:032] train_loss:6.12e-02, val_loss:7.47e-02,  optimality: 0.770, efficiency: 0.467, h_mean: 0.581\n",
      "training: 100%|███████████████| 8/8 [00:04<00:00,  1.86it/s]\n",
      "validation: 100%|█████████████| 1/1 [00:01<00:00,  1.18s/it]\n",
      "[epoch:033] train_loss:6.29e-02, val_loss:7.27e-02,  optimality: 0.750, efficiency: 0.449, h_mean: 0.562\n",
      "training: 100%|███████████████| 8/8 [00:04<00:00,  1.87it/s]\n",
      "validation: 100%|█████████████| 1/1 [00:01<00:00,  1.08s/it]\n",
      "[epoch:034] train_loss:6.26e-02, val_loss:7.23e-02,  optimality: 0.800, efficiency: 0.471, h_mean: 0.593\n",
      "training: 100%|███████████████| 8/8 [00:04<00:00,  1.90it/s]\n",
      "validation: 100%|█████████████| 1/1 [00:01<00:00,  1.14s/it]\n",
      "[epoch:035] train_loss:6.27e-02, val_loss:7.24e-02,  optimality: 0.780, efficiency: 0.455, h_mean: 0.575\n",
      "training: 100%|███████████████| 8/8 [00:04<00:00,  1.88it/s]\n",
      "validation: 100%|█████████████| 1/1 [00:00<00:00,  1.03it/s]\n",
      "[epoch:036] train_loss:6.18e-02, val_loss:6.88e-02,  optimality: 0.790, efficiency: 0.429, h_mean: 0.556\n",
      "training: 100%|███████████████| 8/8 [00:04<00:00,  1.86it/s]\n",
      "validation: 100%|█████████████| 1/1 [00:00<00:00,  1.01it/s]\n",
      "[epoch:037] train_loss:6.31e-02, val_loss:7.52e-02,  optimality: 0.690, efficiency: 0.441, h_mean: 0.538\n",
      "training: 100%|███████████████| 8/8 [00:04<00:00,  1.90it/s]\n",
      "validation: 100%|█████████████| 1/1 [00:01<00:00,  1.22s/it]\n",
      "[epoch:038] train_loss:6.13e-02, val_loss:7.29e-02,  optimality: 0.740, efficiency: 0.495, h_mean: 0.593\n",
      "training: 100%|███████████████| 8/8 [00:04<00:00,  1.88it/s]\n",
      "validation: 100%|█████████████| 1/1 [00:01<00:00,  1.05s/it]\n",
      "[epoch:039] train_loss:6.25e-02, val_loss:7.13e-02,  optimality: 0.740, efficiency: 0.449, h_mean: 0.559\n",
      "training: 100%|███████████████| 8/8 [00:04<00:00,  1.87it/s]\n",
      "validation: 100%|█████████████| 1/1 [00:01<00:00,  1.10s/it]\n",
      "[epoch:040] train_loss:6.29e-02, val_loss:7.16e-02,  optimality: 0.730, efficiency: 0.473, h_mean: 0.574\n",
      "training: 100%|███████████████| 8/8 [00:04<00:00,  1.87it/s]\n",
      "validation: 100%|█████████████| 1/1 [00:01<00:00,  1.10s/it]\n",
      "[epoch:041] train_loss:6.21e-02, val_loss:7.10e-02,  optimality: 0.770, efficiency: 0.469, h_mean: 0.583\n",
      "training: 100%|███████████████| 8/8 [00:04<00:00,  1.88it/s]\n",
      "validation: 100%|█████████████| 1/1 [00:01<00:00,  1.18s/it]\n",
      "[epoch:042] train_loss:6.21e-02, val_loss:7.16e-02,  optimality: 0.800, efficiency: 0.482, h_mean: 0.601\n",
      "training: 100%|███████████████| 8/8 [00:04<00:00,  1.88it/s]\n",
      "validation: 100%|█████████████| 1/1 [00:01<00:00,  1.22s/it]\n",
      "[epoch:043] train_loss:6.38e-02, val_loss:7.36e-02,  optimality: 0.800, efficiency: 0.529, h_mean: 0.637\n",
      "best score updated: 0.617 -> 0.637\n",
      "training: 100%|███████████████| 8/8 [00:03<00:00,  2.30it/s]\n",
      "validation: 100%|█████████████| 1/1 [00:00<00:00,  1.15it/s]\n",
      "[epoch:044] train_loss:6.20e-02, val_loss:7.24e-02,  optimality: 0.750, efficiency: 0.453, h_mean: 0.565\n",
      "training: 100%|███████████████| 8/8 [00:03<00:00,  2.28it/s]\n",
      "validation: 100%|█████████████| 1/1 [00:00<00:00,  1.07it/s]\n",
      "[epoch:045] train_loss:6.30e-02, val_loss:7.46e-02,  optimality: 0.810, efficiency: 0.481, h_mean: 0.604\n",
      "training: 100%|███████████████| 8/8 [00:03<00:00,  2.34it/s]\n",
      "validation: 100%|█████████████| 1/1 [00:00<00:00,  1.14it/s]\n",
      "[epoch:046] train_loss:6.29e-02, val_loss:7.34e-02,  optimality: 0.730, efficiency: 0.472, h_mean: 0.574\n",
      "training: 100%|███████████████| 8/8 [00:03<00:00,  2.31it/s]\n",
      "validation: 100%|█████████████| 1/1 [00:00<00:00,  1.09it/s]\n",
      "[epoch:047] train_loss:6.17e-02, val_loss:7.19e-02,  optimality: 0.820, efficiency: 0.477, h_mean: 0.603\n",
      "training: 100%|███████████████| 8/8 [00:03<00:00,  2.34it/s]\n",
      "validation: 100%|█████████████| 1/1 [00:00<00:00,  1.14it/s]\n",
      "[epoch:048] train_loss:6.09e-02, val_loss:7.30e-02,  optimality: 0.800, efficiency: 0.459, h_mean: 0.583\n",
      "training: 100%|███████████████| 8/8 [00:03<00:00,  2.31it/s]\n",
      "validation: 100%|█████████████| 1/1 [00:00<00:00,  1.23it/s]\n",
      "[epoch:049] train_loss:6.15e-02, val_loss:7.40e-02,  optimality: 0.790, efficiency: 0.497, h_mean: 0.610\n",
      "test: 100%|███████████████████| 1/1 [00:00<00:00,  1.24it/s]\n",
      "[final performance] optimality: 0.830, efficiency: 0.430, h_mean: 0.566\n"
     ]
    }
   ],
   "source": [
    "# CNN encoder\n",
    "!python ../scripts/train.py"
   ]
  },
  {
   "cell_type": "raw",
   "id": "bd455e2a-fea9-4348-8087-971294f78561",
   "metadata": {},
   "source": [
    "# Unet encoder\n",
    "!python train.py -e Unet"
   ]
  }
 ],
 "metadata": {
  "kernelspec": {
   "display_name": "Python 3 (ipykernel)",
   "language": "python",
   "name": "python3"
  },
  "language_info": {
   "codemirror_mode": {
    "name": "ipython",
    "version": 3
   },
   "file_extension": ".py",
   "mimetype": "text/x-python",
   "name": "python",
   "nbconvert_exporter": "python",
   "pygments_lexer": "ipython3",
   "version": "3.8.10"
  }
 },
 "nbformat": 4,
 "nbformat_minor": 5
}
